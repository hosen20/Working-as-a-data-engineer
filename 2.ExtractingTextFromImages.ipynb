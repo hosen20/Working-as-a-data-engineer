{
  "nbformat": 4,
  "nbformat_minor": 0,
  "metadata": {
    "colab": {
      "provenance": []
    },
    "kernelspec": {
      "name": "python3",
      "display_name": "Python 3"
    },
    "language_info": {
      "name": "python"
    }
  },
  "cells": [
    {
      "cell_type": "markdown",
      "source": [
        "#Extracting Text from Images\n",
        "### Using PyTesseract"
      ],
      "metadata": {
        "id": "VxaS6j382897"
      }
    },
    {
      "cell_type": "markdown",
      "source": [
        "![1.ReviewImage.png](data:image/png;base64,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)"
      ],
      "metadata": {
        "id": "P5sbwTa33O1o"
      }
    },
    {
      "cell_type": "markdown",
      "source": [
        "## Summary:\n",
        "These days reviews are not only written using texts but are also embedded in images as the one above. Continuing working on our sentiment analysis project in the first notebook, we would like to extract text from some images that contain product reviews. Our data engineer Angelina, finshed writng the first notebook were she had done some sentiment analysis on Twitter text reviews. She is now given the project of extracting text from images and supply the extracted texts to her other teammates in the data engineering group, then the rest of the group will work on cleaning the text further.\n",
        "\n",
        "Our friend Angelina is tired after finishing her work on analyzing sentiment anlysis of twitter reviews, so she is only given the task of etracting the text from images. Here we are going to analyze the exracted data and find the advantages and disadvantages of using customer reviews from images."
      ],
      "metadata": {
        "id": "v4hUh4P15Ylh"
      }
    },
    {
      "cell_type": "code",
      "execution_count": null,
      "metadata": {
        "id": "_eoVtSoGdaTr"
      },
      "outputs": [],
      "source": [
        "# installing required packages\n",
        "!sudo apt install tesseract-ocr\n",
        "!pip install pytesseract"
      ]
    },
    {
      "cell_type": "code",
      "source": [
        "import pytesseract\n",
        "try:\n",
        " from PIL import Image\n",
        "except ImportError:\n",
        " import Image"
      ],
      "metadata": {
        "id": "fGLmJkqXdfTr"
      },
      "execution_count": 19,
      "outputs": []
    },
    {
      "cell_type": "code",
      "source": [
        "# mounting drive\n",
        "# we need to mount our google drive to be able to clone the folder containing the pictures from github\n",
        "from google.colab import drive\n",
        "drive.mount('/content/drive')"
      ],
      "metadata": {
        "id": "FAG48hYs2j3Y",
        "colab": {
          "base_uri": "https://localhost:8080/"
        },
        "outputId": "745b2b6d-cd30-4da6-c26a-1f69e4ea3b54"
      },
      "execution_count": 20,
      "outputs": [
        {
          "output_type": "stream",
          "name": "stdout",
          "text": [
            "Drive already mounted at /content/drive; to attempt to forcibly remount, call drive.mount(\"/content/drive\", force_remount=True).\n"
          ]
        }
      ]
    },
    {
      "cell_type": "code",
      "source": [
        "# getting the 3 images from github\n",
        "!git clone https://github.com/hosen20/photos_test.git"
      ],
      "metadata": {
        "id": "oGRFI0QC2ltU",
        "colab": {
          "base_uri": "https://localhost:8080/"
        },
        "outputId": "4f65c6ba-b63e-4ac9-f381-e2d7ea5e0082"
      },
      "execution_count": 21,
      "outputs": [
        {
          "output_type": "stream",
          "name": "stdout",
          "text": [
            "Cloning into 'photos_test'...\n",
            "remote: Enumerating objects: 6, done.\u001b[K\n",
            "remote: Counting objects: 100% (6/6), done.\u001b[K\n",
            "remote: Compressing objects: 100% (5/5), done.\u001b[K\n",
            "remote: Total 6 (delta 0), reused 0 (delta 0), pack-reused 0\u001b[K\n",
            "Receiving objects: 100% (6/6), 142.91 KiB | 4.76 MiB/s, done.\n"
          ]
        }
      ]
    },
    {
      "cell_type": "code",
      "source": [
        "# list containing the extracted texts\n",
        "list_of_texts = []\n",
        "\n",
        "# extractinng the text\n",
        "image_path_in_colab='/content/photos_test/CustomerReviewImages/1.CustomerReviewImage.png'\n",
        "extractedInformation = pytesseract.image_to_string(Image.open(image_path_in_colab))\n",
        "\n",
        "# printing and appending the text to list_of_texts\n",
        "list_of_texts.append(extractedInformation)\n",
        "print(extractedInformation)"
      ],
      "metadata": {
        "colab": {
          "base_uri": "https://localhost:8080/"
        },
        "id": "LvrBNnnsdffU",
        "outputId": "1220f4ab-0488-4c12-f185-1118ca984405"
      },
      "execution_count": 22,
      "outputs": [
        {
          "output_type": "stream",
          "name": "stdout",
          "text": [
            " \n",
            "\n",
            " \n",
            "\n",
            "Customer review tok kok\n",
            "\n",
            "\"a great product and the best customer service we've experienced\n",
            "Ina seriously long time\n",
            "\n",
            "luis has gone above and beyond to make sure we are happy with\n",
            "‘the product and we would have no hesitation in recommending\n",
            "him and GearHooks to others, Thank you!”\n",
            "\n",
            "Becky H, Whitstable\n",
            "\n",
            " \n",
            "\n",
            " \n",
            "\f\n"
          ]
        }
      ]
    },
    {
      "cell_type": "code",
      "source": [
        "# extractinng the text\n",
        "image_path_in_colab='/content/photos_test/CustomerReviewImages/2.CustomerReviewImage.png'\n",
        "extractedInformation = pytesseract.image_to_string(Image.open(image_path_in_colab))\n",
        "\n",
        "# printing and appending the text to list_of_texts\n",
        "list_of_texts.append(extractedInformation)\n",
        "print(extractedInformation)"
      ],
      "metadata": {
        "colab": {
          "base_uri": "https://localhost:8080/"
        },
        "id": "xQzayeFUdfkD",
        "outputId": "094accbd-f087-4133-ea7b-cf3e1ed858d4"
      },
      "execution_count": 24,
      "outputs": [
        {
          "output_type": "stream",
          "name": "stdout",
          "text": [
            "Michael H.\n",
            "\n",
            "2 reviews\n",
            "\n",
            "x* 1 month ago\n",
            "\n",
            "Verified customer\n",
            "\n",
            "| ordered a product from their website, and it took over a\n",
            "month for it to arrive. When | contacted customer service\n",
            "for assistance tracking my order, they were very rude and\n",
            "not helpful. Once | finally received my order, some items\n",
            "were missing, and | received the wrong sizes. Won't be\n",
            "ordering from here again.\n",
            "\f\n"
          ]
        }
      ]
    },
    {
      "cell_type": "code",
      "source": [
        "# extractinng the text\n",
        "image_path_in_colab='/content/photos_test/CustomerReviewImages/3.CustomerReviewImages.png'\n",
        "extractedInformation = pytesseract.image_to_string(Image.open(image_path_in_colab))\n",
        "\n",
        "# printing and appending the text to list_of_texts\n",
        "list_of_texts.append(extractedInformation)\n",
        "print(extractedInformation)"
      ],
      "metadata": {
        "id": "fu1_hEKEdfnt",
        "colab": {
          "base_uri": "https://localhost:8080/"
        },
        "outputId": "41b594d3-e014-4310-c33e-3f1da9cb6d2e"
      },
      "execution_count": 25,
      "outputs": [
        {
          "output_type": "stream",
          "name": "stdout",
          "text": [
            "[Lj Kenwood CH180 Mini Chopper, 300 W - White\n",
            "£19.98 Prime In stock. Sold by LB INTL and Fulfilled by Amazon.\n",
            "\n",
            "Customer Reviews\n",
            "\n",
            "Weve trig 1.981\n",
            "\n",
            "4.5 outof 5 stars\n",
            "\n",
            "Sstar | 1,453 ‘Share your thoughts with other customers\n",
            "4star ~«:sCO2e\n",
            "\n",
            "3star [—Ss«d:«C88 Write a customer review >\n",
            "2star[——*«d+sso a\n",
            "\n",
            "tstar [—~«d+sag\n",
            "\n",
            "See all 1,981 customer reviews +\n",
            "\n",
            "Top Customer Reviews\n",
            "\n",
            "sir vir irvir Wr Every kitchen should have one.\n",
            "By IOWBOY on 26 Aug. 2012\n",
            "\n",
            "Verified Purchase\n",
            "\n",
            "| had previously owned a variety of food processors before | purchased the Kenwood Mini Chopper, but one thing that they all had in\n",
            "‘common was that | very rarely used them! This was because | have a good set of knifes, | am quite proficient with them, and they were\n",
            "easier to clean afterwards; another reason was that all the processors were quite bulky and I'm a bit of fuss pot’ when it comes to having\n",
            "clutter-free worktops, so more often than not they were stored at the back of a cupboard and by the time I'd got them out and set them up |\n",
            "could have probably done all the work with a knife!\n",
            "\n",
            " \n",
            "\n",
            " \n",
            "\f\n"
          ]
        }
      ]
    },
    {
      "cell_type": "markdown",
      "source": [
        "## In the end:\n",
        "Nice job, our data engineer Angelina have extracted the data and organized it in a list. Now let us explain more about the advanages and disadvantages of her approach.\n",
        "\n",
        "#### Advantages:\n",
        "1. Extracting text from images gives us access to more information.\n",
        "2. This step can be automated using libraries made for this purpose instead of extracting texts manually.\n",
        "\n",
        "#### Disadvantages:\n",
        "1. Instead of getting the texts from an api that have a predefined strucutre, every image might containg its own characteristics. Some might contain names, addresses, review stars, ... And others may not, this makes the job of cleaning the data harder.\n",
        "2. Second PyTesseract only works on CPU, so no ability to benefit from the power of a GPU\n",
        "3. Images need to be in a good quality or the text extraction results can give wrong results."
      ],
      "metadata": {
        "id": "51pvfRzJ8d26"
      }
    },
    {
      "cell_type": "code",
      "source": [],
      "metadata": {
        "id": "Mvf6pcv-dfuD"
      },
      "execution_count": null,
      "outputs": []
    }
  ]
}